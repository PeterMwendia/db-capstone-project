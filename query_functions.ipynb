{
 "cells": [
  {
   "cell_type": "markdown",
   "metadata": {},
   "source": [
    "Task 1: Connecting to the Database\n"
   ]
  },
  {
   "cell_type": "code",
   "execution_count": 1,
   "metadata": {},
   "outputs": [],
   "source": [
    "import mysql.connector as connector\n",
    "\n",
    "# Database connection parameters\n",
    "config = {\n",
    "    'user': 'root',\n",
    "    'password': 'mwendiabae',\n",
    "    'database': 'LittleLemonDB'\n",
    "}\n",
    "\n",
    "# Establishing a connection to the database\n",
    "connection = connector.connect(**config)\n",
    "\n",
    "# Creating a cursor to interact with the database\n",
    "cursor = connection.cursor()"
   ]
  },
  {
   "cell_type": "markdown",
   "metadata": {},
   "source": [
    "Task 2: Querying for Tables"
   ]
  },
  {
   "cell_type": "code",
   "execution_count": 2,
   "metadata": {},
   "outputs": [
    {
     "name": "stdout",
     "output_type": "stream",
     "text": [
      "Tables in the database:\n",
      "Bookings\n",
      "Customers\n",
      "Menu\n",
      "OrderDeliveryStatus\n",
      "Orders\n",
      "StaffInformation\n"
     ]
    }
   ],
   "source": [
    "# Query to show all tables in the database\n",
    "show_tables_query = \"SHOW TABLES\"\n",
    "cursor.execute(show_tables_query)\n",
    "\n",
    "# Fetching all results\n",
    "results = cursor.fetchall()\n",
    "\n",
    "# Printing the tables\n",
    "print(\"Tables in the database:\")\n",
    "for table in results:\n",
    "    print(table[0])"
   ]
  },
  {
   "cell_type": "markdown",
   "metadata": {},
   "source": [
    "Task 3: Querying with a JOIN"
   ]
  },
  {
   "cell_type": "code",
   "execution_count": 3,
   "metadata": {},
   "outputs": [
    {
     "name": "stdout",
     "output_type": "stream",
     "text": [
      "Customers who spent more than $60:\n"
     ]
    }
   ],
   "source": [
    "# Query to get customer details who spent more than $60\n",
    "query = \"\"\"\n",
    "    SELECT Customers.full_name, Customers.contact_details, Orders.total_cost\n",
    "    FROM Customers\n",
    "    JOIN Orders ON Customers.customer_id = Orders.customer_id\n",
    "    WHERE Orders.total_cost > 60\n",
    "\"\"\"\n",
    "\n",
    "cursor.execute(query)\n",
    "\n",
    "# Fetching all results\n",
    "results = cursor.fetchall()\n",
    "\n",
    "# Printing the results\n",
    "print(\"Customers who spent more than $60:\")\n",
    "for row in results:\n",
    "    print(\"Full Name:\", row[0])\n",
    "    print(\"Contact Details:\", row[1])\n",
    "    print(\"Total Cost:\", row[2])\n",
    "    print()\n"
   ]
  }
 ],
 "metadata": {
  "kernelspec": {
   "display_name": "Python 3",
   "language": "python",
   "name": "python3"
  },
  "language_info": {
   "codemirror_mode": {
    "name": "ipython",
    "version": 3
   },
   "file_extension": ".py",
   "mimetype": "text/x-python",
   "name": "python",
   "nbconvert_exporter": "python",
   "pygments_lexer": "ipython3",
   "version": "3.10.12"
  },
  "orig_nbformat": 4
 },
 "nbformat": 4,
 "nbformat_minor": 2
}
